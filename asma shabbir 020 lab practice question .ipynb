{
 "cells": [
  {
   "cell_type": "code",
   "execution_count": 1,
   "id": "e7f3c660-ab6a-42e1-90ea-738a53124215",
   "metadata": {},
   "outputs": [
    {
     "name": "stdout",
     "output_type": "stream",
     "text": [
      "{'name': 'Asma', 'age': 23, 'city': 'chowk azam', 'hobbies': 'teaching'}\n"
     ]
    }
   ],
   "source": [
    "my_dict = {'name': 'Asma', 'age': 23, 'city': 'chowk azam','hobbies':'teaching'}\n",
    "print(my_dict)"
   ]
  },
  {
   "cell_type": "code",
   "execution_count": 1,
   "id": "d48bb603-9232-4160-89e7-1296895a7fee",
   "metadata": {},
   "outputs": [
    {
     "name": "stdout",
     "output_type": "stream",
     "text": [
      "Word Frequencies:\n",
      "make: 1\n",
      "it: 2\n",
      "easy: 1\n",
      "and: 2\n",
      "understandable: 1\n",
      "explain: 1\n",
      "step: 2\n",
      "by: 1\n"
     ]
    }
   ],
   "source": [
    "text = \"Make it easy and understandable and explain it step by step\"\n",
    "text = text.lower()\n",
    "words = text.split()\n",
    "word_count = {}\n",
    "for word in words:\n",
    "    if word in word_count:\n",
    "        word_count[word] += 1  # Increase count if word already exists\n",
    "    else:\n",
    "        word_count[word] = 1   # Add word with count 1 if it's new\n",
    "print(\"Word Frequencies:\")\n",
    "for word, count in word_count.items():\n",
    "    print(f\"{word}: {count}\")"
   ]
  },
  {
   "cell_type": "code",
   "execution_count": 23,
   "id": "1caf10d5-d0dd-417e-958a-fe4e1f574502",
   "metadata": {},
   "outputs": [
    {
     "name": "stdin",
     "output_type": "stream",
     "text": [
      "enter item name: bat\n",
      "enter quantity 2\n"
     ]
    },
    {
     "name": "stdout",
     "output_type": "stream",
     "text": [
      "inventory: {'bat': 2}\n"
     ]
    },
    {
     "name": "stdin",
     "output_type": "stream",
     "text": [
      "enter item name: apple\n",
      "enter quantity 5\n"
     ]
    },
    {
     "name": "stdout",
     "output_type": "stream",
     "text": [
      "inventory: {'bat': 2, 'apple': 5}\n"
     ]
    },
    {
     "name": "stdin",
     "output_type": "stream",
     "text": [
      "enter item name: strawberry\n",
      "enter quantity 6\n"
     ]
    },
    {
     "name": "stdout",
     "output_type": "stream",
     "text": [
      "inventory: {'bat': 2, 'apple': 5, 'strawberry': 6}\n"
     ]
    }
   ],
   "source": [
    "inventory={}\n",
    "for i in range(3):\n",
    "    item=input(\"enter item name:\")\n",
    "    quantity=int(input(\"enter quantity\"))\n",
    "    inventory[item]=quantity\n",
    "    print(\"inventory:\", inventory)"
   ]
  },
  {
   "cell_type": "code",
   "execution_count": 35,
   "id": "742ec2cb-f8c0-42f7-84ce-55dc88c9c240",
   "metadata": {},
   "outputs": [
    {
     "ename": "NameError",
     "evalue": "name 'orders' is not defined",
     "output_type": "error",
     "traceback": [
      "\u001b[1;31m---------------------------------------------------------------------------\u001b[0m",
      "\u001b[1;31mNameError\u001b[0m                                 Traceback (most recent call last)",
      "Cell \u001b[1;32mIn[35], line 2\u001b[0m\n\u001b[0;32m      1\u001b[0m category_counts \u001b[38;5;241m=\u001b[39m {}\n\u001b[1;32m----> 2\u001b[0m \u001b[38;5;28;01mfor\u001b[39;00m order \u001b[38;5;129;01min\u001b[39;00m orders:\n\u001b[0;32m      3\u001b[0m     category \u001b[38;5;241m=\u001b[39m order[\u001b[38;5;124m\"\u001b[39m\u001b[38;5;124mcategory\u001b[39m\u001b[38;5;124m\"\u001b[39m]\n\u001b[0;32m      4\u001b[0m     \u001b[38;5;28;01mif\u001b[39;00m category \u001b[38;5;129;01min\u001b[39;00m category_counts:\n",
      "\u001b[1;31mNameError\u001b[0m: name 'orders' is not defined"
     ]
    }
   ],
   "source": [
    "category_counts = {}\n",
    "for order in orders:\n",
    "    category = order[\"category\"]\n",
    "    if category in category_counts:\n",
    "        category_counts[category] += 1\n",
    "    else:\n",
    "        category_counts[category] = 1\n",
    "most_popular = max(category_counts, key=category_counts.get)\n",
    "print(\"Category counts:\", category_counts)\n",
    "print(\"Most popular category:\", most_popular)\n"
   ]
  },
  {
   "cell_type": "code",
   "execution_count": 37,
   "id": "e1b2b806-fb05-46f1-a379-fbb3909e8cff",
   "metadata": {},
   "outputs": [
    {
     "name": "stdout",
     "output_type": "stream",
     "text": [
      "Student Grades:\n",
      "Alice: 85\n",
      "Bob: 90\n",
      "Charlie: 78\n",
      "Diana: 92\n",
      "\n",
      "Average Grade: 86.25\n"
     ]
    }
   ],
   "source": [
    "# Dictionary to store student names and their grades\n",
    "grades = {\n",
    "    \"Alice\": 85,\n",
    "    \"Bob\": 90,\n",
    "    \"Charlie\": 78,\n",
    "    \"Diana\": 92\n",
    "}\n",
    "\n",
    "# Calculate the average grade\n",
    "total = sum(grades.values())\n",
    "count = len(grades)\n",
    "average = total / count\n",
    "\n",
    "# Show each student's grade and the average\n",
    "print(\"Student Grades:\")\n",
    "for student, grade in grades.items():\n",
    "    print(f\"{student}: {grade}\")\n",
    "\n",
    "print(f\"\\nAverage Grade: {average:.2f}\")\n"
   ]
  },
  {
   "cell_type": "code",
   "execution_count": 39,
   "id": "b8b7ec90-79cc-4052-b5ed-04217d935411",
   "metadata": {},
   "outputs": [
    {
     "name": "stdout",
     "output_type": "stream",
     "text": [
      "Added product 'Laptop'.\n",
      "Added product 'Mouse'.\n",
      "Added product 'Keyboard'.\n",
      "Updated 'Mouse' quantity to 8.\n",
      "\n",
      "Total Inventory Value: $8170.00\n",
      "\n",
      "Low Stock Items:\n",
      "Keyboard: 2 in stock\n"
     ]
    }
   ],
   "source": [
    "# Inventory dictionary format: {product_name: {\"quantity\": x, \"price\": y}}\n",
    "inventory = {}\n",
    "def add_product(name, quantity, price):\n",
    "    if name in inventory:\n",
    "        print(f\"Product '{name}' already exists. Use update_quantity to change stock.\")\n",
    "    else:\n",
    "        inventory[name] = {\"quantity\": quantity, \"price\": price}\n",
    "        print(f\"Added product '{name}'.\")\n",
    "def update_quantity(name, quantity):\n",
    "    if name in inventory:\n",
    "        inventory[name][\"quantity\"] += quantity\n",
    "        print(f\"Updated '{name}' quantity to {inventory[name]['quantity']}.\")\n",
    "    else:\n",
    "        print(f\"Product '{name}' not found.\")\n",
    "def calculate_total_value():\n",
    "    total = 0\n",
    "    for product in inventory.values():\n",
    "        total += product[\"quantity\"] * product[\"price\"]\n",
    "    return total\n",
    "def low_stock_report(threshold=5):\n",
    "    print(\"\\nLow Stock Items:\")\n",
    "    found = False\n",
    "    for name, info in inventory.items():\n",
    "        if info[\"quantity\"] < threshold:\n",
    "            print(f\"{name}: {info['quantity']} in stock\")\n",
    "            found = True\n",
    "    if not found:\n",
    "        print(\"No low-stock items found.\")\n",
    "add_product(\"Laptop\", 10, 800)\n",
    "add_product(\"Mouse\", 3, 15)\n",
    "add_product(\"Keyboard\", 2, 25)\n",
    "update_quantity(\"Mouse\", 5)\n",
    "\n",
    "print(f\"\\nTotal Inventory Value: ${calculate_total_value():.2f}\")\n",
    "low_stock_report(threshold=5)\n"
   ]
  },
  {
   "cell_type": "code",
   "execution_count": 41,
   "id": "a6366eef-d58a-47c8-9411-6d7652bfb93b",
   "metadata": {},
   "outputs": [
    {
     "name": "stdout",
     "output_type": "stream",
     "text": [
      "\n",
      "Average Grades:\n",
      "Alice: 84.33\n",
      "Bob: 85.00\n",
      "Charlie: 78.33\n",
      "Diana: 91.67\n",
      "\n",
      "Highest in Math: Bob (92)\n",
      "Lowest in Math: Charlie (70)\n",
      "\n",
      "Students sorted by average grade:\n",
      "Diana: 91.67\n",
      "Bob: 85.00\n",
      "Alice: 84.33\n",
      "Charlie: 78.33\n"
     ]
    }
   ],
   "source": [
    "# Gradebook dictionary: {student_name: {subject: grade, ...}}\n",
    "gradebook = {\n",
    "    \"Alice\": {\"Math\": 85, \"Science\": 90, \"English\": 78},\n",
    "    \"Bob\": {\"Math\": 92, \"Science\": 88, \"English\": 75},\n",
    "    \"Charlie\": {\"Math\": 70, \"Science\": 85, \"English\": 80},\n",
    "    \"Diana\": {\"Math\": 88, \"Science\": 95, \"English\": 92}\n",
    "}\n",
    "def calculate_averages():\n",
    "    print(\"\\nAverage Grades:\")\n",
    "    for name, subjects in gradebook.items():\n",
    "        avg = sum(subjects.values()) / len(subjects)\n",
    "        print(f\"{name}: {avg:.2f}\")\n",
    "def subject_high_low(subject):\n",
    "    highest = None\n",
    "    lowest = None\n",
    "    high_student = low_student = \"\"\n",
    "    \n",
    "    for student, grades in gradebook.items():\n",
    "        if subject in grades:\n",
    "            grade = grades[subject]\n",
    "            if highest is None or grade > highest:\n",
    "                highest = grade\n",
    "                high_student = student\n",
    "            if lowest is None or grade < lowest:\n",
    "                lowest = grade\n",
    "                low_student = student\n",
    "    \n",
    "    if highest is not None:\n",
    "        print(f\"\\nHighest in {subject}: {high_student} ({highest})\")\n",
    "        print(f\"Lowest in {subject}: {low_student} ({lowest})\")\n",
    "    else:\n",
    "        print(f\"No grades found for subject '{subject}'.\")\n",
    "def sort_by_average():\n",
    "    averages = {}\n",
    "    for name, subjects in gradebook.items():\n",
    "        avg = sum(subjects.values()) / len(subjects)\n",
    "        averages[name] = avg\n",
    "\n",
    "    sorted_students = sorted(averages.items(), key=lambda x: x[1], reverse=True)\n",
    "    \n",
    "    print(\"\\nStudents sorted by average grade:\")\n",
    "    for name, avg in sorted_students:\n",
    "        print(f\"{name}: {avg:.2f}\")\n",
    "calculate_averages()\n",
    "subject_high_low(\"Math\")\n",
    "sort_by_average()\n"
   ]
  },
  {
   "cell_type": "code",
   "execution_count": null,
   "id": "765e9f07-31e5-4f45-9ed5-47ca125e0615",
   "metadata": {},
   "outputs": [],
   "source": [
    "# Store product info: {product_name: {\"price\": x, \"quantity\": y}}\n",
    "store = {\n",
    "    \"Laptop\": {\"price\": 800, \"quantity\": 5},\n",
    "    \"Mouse\": {\"price\": 20, \"quantity\": 10},\n",
    "    \"Keyboard\": {\"price\": 40, \"quantity\": 8},\n",
    "    \"Monitor\": {\"price\": 150, \"quantity\": 4}\n",
    "}\n",
    "\n",
    "# Shopping cart: {product_name: quantity}\n",
    "cart = {}\n",
    "def add_to_cart(product, quantity):\n",
    "    if product in store and store[product][\"quantity\"] >= quantity:\n",
    "        cart[product] = cart.get(product, 0) + quantity\n",
    "        store[product][\"quantity\"] -= quantity\n",
    "        print(f\"Added {quantity} x {product} to cart.\")\n",
    "    else:\n",
    "        print(f\"Not enough '{product}' in stock or product doesn't exist.\n",
    "def remove_from_cart(product):\n",
    "    if product in cart:\n",
    "        store[product][\"quantity\"] += cart[product]\n",
    "        print(f\"Removed {cart[product]} x {product} from cart.\")\n",
    "        del cart[product]\n",
    "    else:\n",
    "        print(f\"'{product}' not found in cart.\")\n",
    "\n",
    "# Calculate total cost with discount and tax\n",
    "def checkout(discount_percent=10, tax_percent=5):\n",
    "    subtotal = 0\n",
    "    for product, qty in cart.items():\n",
    "        subtotal += store[product][\"price\"] * qty\n",
    "\n",
    "    discount = (discount_percent / 100) * subtotal\n",
    "    taxed = (tax_percent / 100) * (subtotal - discount)\n",
    "    total = subtotal - discount + taxed\n",
    "\n",
    "    print(\"\\n--- Checkout Summary ---\")\n",
    "    print(f\"Subtotal: ${subtotal:.2f}\")\n",
    "    print(f\"Discount ({discount_percent}%): -${discount:.2f}\")\n",
    "    print(f\"Tax ({tax_percent}%): +${taxed:.2f}\")\n",
    "    print(f\"Total: ${total:.2f}\")\n",
    "    return total\n",
    "\n",
    "# Example usage\n",
    "add_to_cart(\"Laptop\", 1)\n",
    "add_to_cart(\"Mouse\", 2)\n",
    "remove_from_cart(\"Mouse\")\n",
    "add_to_cart(\"Keyboard\", 1)\n",
    "\n",
    "checkout(discount_percent=10, tax_percent=5)\n"
   ]
  }
 ],
 "metadata": {
  "kernelspec": {
   "display_name": "Python [conda env:base] *",
   "language": "python",
   "name": "conda-base-py"
  },
  "language_info": {
   "codemirror_mode": {
    "name": "ipython",
    "version": 3
   },
   "file_extension": ".py",
   "mimetype": "text/x-python",
   "name": "python",
   "nbconvert_exporter": "python",
   "pygments_lexer": "ipython3",
   "version": "3.12.7"
  }
 },
 "nbformat": 4,
 "nbformat_minor": 5
}
